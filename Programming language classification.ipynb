{
 "cells": [
  {
   "cell_type": "code",
   "execution_count": 1,
   "metadata": {},
   "outputs": [],
   "source": [
    "import pandas as pd\n",
    "import seaborn as sns\n",
    "import numpy as np\n",
    "from matplotlib.pyplot import figure\n",
    "import matplotlib.pyplot as plt\n",
    "import warnings\n",
    "import nltk\n",
    "from sklearn.model_selection import train_test_split\n",
    "from sklearn import preprocessing\n",
    "import re\n",
    "from sklearn.feature_extraction.text import CountVectorizer\n",
    "from sklearn.linear_model import LogisticRegression\n",
    "from sklearn.ensemble import RandomForestClassifier\n",
    "from sklearn.naive_bayes import MultinomialNB\n",
    "\n",
    "from nltk.tokenize import RegexpTokenizer\n",
    "from sklearn.model_selection import cross_val_score\n",
    "from sklearn.pipeline import Pipeline\n",
    "warnings.filterwarnings('ignore')"
   ]
  },
  {
   "cell_type": "markdown",
   "metadata": {},
   "source": [
    "## Wstępna eksploracja dancyh"
   ]
  },
  {
   "cell_type": "code",
   "execution_count": 2,
   "metadata": {},
   "outputs": [],
   "source": [
    "df = pd.read_csv('Data/data.csv')"
   ]
  },
  {
   "cell_type": "code",
   "execution_count": 3,
   "metadata": {},
   "outputs": [
    {
     "data": {
      "text/html": [
       "<div>\n",
       "<style scoped>\n",
       "    .dataframe tbody tr th:only-of-type {\n",
       "        vertical-align: middle;\n",
       "    }\n",
       "\n",
       "    .dataframe tbody tr th {\n",
       "        vertical-align: top;\n",
       "    }\n",
       "\n",
       "    .dataframe thead th {\n",
       "        text-align: right;\n",
       "    }\n",
       "</style>\n",
       "<table border=\"1\" class=\"dataframe\">\n",
       "  <thead>\n",
       "    <tr style=\"text-align: right;\">\n",
       "      <th></th>\n",
       "      <th>language</th>\n",
       "      <th>proj_id</th>\n",
       "      <th>file_id</th>\n",
       "      <th>file_body</th>\n",
       "    </tr>\n",
       "  </thead>\n",
       "  <tbody>\n",
       "    <tr>\n",
       "      <th>0</th>\n",
       "      <td>JavaScript</td>\n",
       "      <td>10001</td>\n",
       "      <td>100001</td>\n",
       "      <td>// Functions as values of a variable\\nvar cube...</td>\n",
       "    </tr>\n",
       "    <tr>\n",
       "      <th>1</th>\n",
       "      <td>JavaScript</td>\n",
       "      <td>10001</td>\n",
       "      <td>100002</td>\n",
       "      <td>// Functions as values of a variable\\nvar cube...</td>\n",
       "    </tr>\n",
       "    <tr>\n",
       "      <th>2</th>\n",
       "      <td>JavaScript</td>\n",
       "      <td>10002</td>\n",
       "      <td>100003</td>\n",
       "      <td>function median(ary) {\\n    if (ary.length == ...</td>\n",
       "    </tr>\n",
       "    <tr>\n",
       "      <th>3</th>\n",
       "      <td>JavaScript</td>\n",
       "      <td>10002</td>\n",
       "      <td>100004</td>\n",
       "      <td>[\\n  null,\\n  4,\\n  3.5,\\n  2.1\\n]\\n</td>\n",
       "    </tr>\n",
       "    <tr>\n",
       "      <th>4</th>\n",
       "      <td>JavaScript</td>\n",
       "      <td>10002</td>\n",
       "      <td>100005</td>\n",
       "      <td>(() =&gt; {\\n    'use strict';\\n\\n    // median :...</td>\n",
       "    </tr>\n",
       "    <tr>\n",
       "      <th>5</th>\n",
       "      <td>JavaScript</td>\n",
       "      <td>10003</td>\n",
       "      <td>100006</td>\n",
       "      <td>function divByZero(dividend,divisor)\\n{\\n\\tvar...</td>\n",
       "    </tr>\n",
       "    <tr>\n",
       "      <th>6</th>\n",
       "      <td>JavaScript</td>\n",
       "      <td>10004</td>\n",
       "      <td>100007</td>\n",
       "      <td>if (\"abs\" in Math) { ... }\\n</td>\n",
       "    </tr>\n",
       "    <tr>\n",
       "      <th>7</th>\n",
       "      <td>JavaScript</td>\n",
       "      <td>10004</td>\n",
       "      <td>100008</td>\n",
       "      <td>if (typeof bloop !== \"undefined\") { ... }\\n</td>\n",
       "    </tr>\n",
       "    <tr>\n",
       "      <th>8</th>\n",
       "      <td>JavaScript</td>\n",
       "      <td>10005</td>\n",
       "      <td>100009</td>\n",
       "      <td>(function () {\\n    'use strict';\\n\\n    // di...</td>\n",
       "    </tr>\n",
       "    <tr>\n",
       "      <th>9</th>\n",
       "      <td>JavaScript</td>\n",
       "      <td>10005</td>\n",
       "      <td>100010</td>\n",
       "      <td>function sort_disjoint(values, indices) {\\n  v...</td>\n",
       "    </tr>\n",
       "  </tbody>\n",
       "</table>\n",
       "</div>"
      ],
      "text/plain": [
       "     language  proj_id  file_id  \\\n",
       "0  JavaScript    10001   100001   \n",
       "1  JavaScript    10001   100002   \n",
       "2  JavaScript    10002   100003   \n",
       "3  JavaScript    10002   100004   \n",
       "4  JavaScript    10002   100005   \n",
       "5  JavaScript    10003   100006   \n",
       "6  JavaScript    10004   100007   \n",
       "7  JavaScript    10004   100008   \n",
       "8  JavaScript    10005   100009   \n",
       "9  JavaScript    10005   100010   \n",
       "\n",
       "                                           file_body  \n",
       "0  // Functions as values of a variable\\nvar cube...  \n",
       "1  // Functions as values of a variable\\nvar cube...  \n",
       "2  function median(ary) {\\n    if (ary.length == ...  \n",
       "3               [\\n  null,\\n  4,\\n  3.5,\\n  2.1\\n]\\n  \n",
       "4  (() => {\\n    'use strict';\\n\\n    // median :...  \n",
       "5  function divByZero(dividend,divisor)\\n{\\n\\tvar...  \n",
       "6                       if (\"abs\" in Math) { ... }\\n  \n",
       "7        if (typeof bloop !== \"undefined\") { ... }\\n  \n",
       "8  (function () {\\n    'use strict';\\n\\n    // di...  \n",
       "9  function sort_disjoint(values, indices) {\\n  v...  "
      ]
     },
     "execution_count": 3,
     "metadata": {},
     "output_type": "execute_result"
    }
   ],
   "source": [
    "df.head(10)"
   ]
  },
  {
   "cell_type": "code",
   "execution_count": 4,
   "metadata": {},
   "outputs": [
    {
     "data": {
      "text/plain": [
       "16272"
      ]
     },
     "execution_count": 4,
     "metadata": {},
     "output_type": "execute_result"
    }
   ],
   "source": [
    "len(df)"
   ]
  },
  {
   "cell_type": "code",
   "execution_count": 5,
   "metadata": {},
   "outputs": [
    {
     "name": "stdout",
     "output_type": "stream",
     "text": [
      "<class 'pandas.core.frame.DataFrame'>\n",
      "RangeIndex: 16272 entries, 0 to 16271\n",
      "Data columns (total 4 columns):\n",
      " #   Column     Non-Null Count  Dtype \n",
      "---  ------     --------------  ----- \n",
      " 0   language   16272 non-null  object\n",
      " 1   proj_id    16272 non-null  int64 \n",
      " 2   file_id    16272 non-null  int64 \n",
      " 3   file_body  16268 non-null  object\n",
      "dtypes: int64(2), object(2)\n",
      "memory usage: 508.6+ KB\n"
     ]
    }
   ],
   "source": [
    "df.info()"
   ]
  },
  {
   "cell_type": "code",
   "execution_count": 6,
   "metadata": {},
   "outputs": [
    {
     "data": {
      "text/plain": [
       "array(['JavaScript', 'Swift', 'Python', 'Java', 'C++', 'Ruby', 'Rust',\n",
       "       'C', 'Scala', 'R', 'Go', 'Mathematica', 'Kotlin', 'Fortran',\n",
       "       'Julia', 'PHP', 'MATLAB', 'Haskell', 'Perl'], dtype=object)"
      ]
     },
     "execution_count": 6,
     "metadata": {},
     "output_type": "execute_result"
    }
   ],
   "source": [
    "df.language.unique()"
   ]
  },
  {
   "cell_type": "code",
   "execution_count": 7,
   "metadata": {},
   "outputs": [
    {
     "data": {
      "text/plain": [
       "Python         1452\n",
       "Haskell        1333\n",
       "Perl           1136\n",
       "Ruby           1104\n",
       "JavaScript     1104\n",
       "C              1078\n",
       "Go              998\n",
       "Java            987\n",
       "Mathematica     927\n",
       "C++             880\n",
       "Scala           802\n",
       "Fortran         745\n",
       "Kotlin          643\n",
       "Julia           638\n",
       "R               603\n",
       "MATLAB          544\n",
       "PHP             477\n",
       "Rust            417\n",
       "Swift           404\n",
       "Name: language, dtype: int64"
      ]
     },
     "execution_count": 7,
     "metadata": {},
     "output_type": "execute_result"
    }
   ],
   "source": [
    "\n",
    "df.language.value_counts()"
   ]
  },
  {
   "cell_type": "code",
   "execution_count": 8,
   "metadata": {},
   "outputs": [
    {
     "data": {
      "text/plain": [
       "[Text(0, 0, 'JavaScript'),\n",
       " Text(0, 0, 'Swift'),\n",
       " Text(0, 0, 'Python'),\n",
       " Text(0, 0, 'Java'),\n",
       " Text(0, 0, 'C++'),\n",
       " Text(0, 0, 'Ruby'),\n",
       " Text(0, 0, 'Rust'),\n",
       " Text(0, 0, 'C'),\n",
       " Text(0, 0, 'Scala'),\n",
       " Text(0, 0, 'R'),\n",
       " Text(0, 0, 'Go'),\n",
       " Text(0, 0, 'Mathematica'),\n",
       " Text(0, 0, 'Kotlin'),\n",
       " Text(0, 0, 'Fortran'),\n",
       " Text(0, 0, 'Julia'),\n",
       " Text(0, 0, 'PHP'),\n",
       " Text(0, 0, 'MATLAB'),\n",
       " Text(0, 0, 'Haskell'),\n",
       " Text(0, 0, 'Perl')]"
      ]
     },
     "execution_count": 8,
     "metadata": {},
     "output_type": "execute_result"
    },
    {
     "data": {
      "image/png": "[encoded data removed]",
      "text/plain": [
       "<Figure size 720x576 with 1 Axes>"
      ]
     },
     "metadata": {},
     "output_type": "display_data"
    }
   ],
   "source": [
    "sns.set(rc={'figure.figsize':(10,8)})\n",
    "lang_count = sns.countplot(df.language)\n",
    "lang_count.set_xticklabels(lang_count.get_xticklabels(), rotation=50)"
   ]
  },
  {
   "cell_type": "code",
   "execution_count": 9,
   "metadata": {},
   "outputs": [
    {
     "data": {
      "text/plain": [
       "10009"
      ]
     },
     "execution_count": 9,
     "metadata": {},
     "output_type": "execute_result"
    }
   ],
   "source": [
    "len(df.proj_id.unique())"
   ]
  },
  {
   "cell_type": "code",
   "execution_count": 10,
   "metadata": {},
   "outputs": [
    {
     "data": {
      "text/plain": [
       "16272"
      ]
     },
     "execution_count": 10,
     "metadata": {},
     "output_type": "execute_result"
    }
   ],
   "source": [
    "len(df.file_id.unique())"
   ]
  },
  {
   "cell_type": "code",
   "execution_count": 11,
   "metadata": {},
   "outputs": [
    {
     "data": {
      "text/html": [
       "<div>\n",
       "<style scoped>\n",
       "    .dataframe tbody tr th:only-of-type {\n",
       "        vertical-align: middle;\n",
       "    }\n",
       "\n",
       "    .dataframe tbody tr th {\n",
       "        vertical-align: top;\n",
       "    }\n",
       "\n",
       "    .dataframe thead th {\n",
       "        text-align: right;\n",
       "    }\n",
       "</style>\n",
       "<table border=\"1\" class=\"dataframe\">\n",
       "  <thead>\n",
       "    <tr style=\"text-align: right;\">\n",
       "      <th></th>\n",
       "      <th>language</th>\n",
       "      <th>proj_id</th>\n",
       "      <th>file_id</th>\n",
       "      <th>file_body</th>\n",
       "    </tr>\n",
       "  </thead>\n",
       "  <tbody>\n",
       "    <tr>\n",
       "      <th>1163</th>\n",
       "      <td>Swift</td>\n",
       "      <td>10518</td>\n",
       "      <td>101164</td>\n",
       "      <td>NaN</td>\n",
       "    </tr>\n",
       "    <tr>\n",
       "      <th>9951</th>\n",
       "      <td>Mathematica</td>\n",
       "      <td>15938</td>\n",
       "      <td>109952</td>\n",
       "      <td>NaN</td>\n",
       "    </tr>\n",
       "    <tr>\n",
       "      <th>12227</th>\n",
       "      <td>Julia</td>\n",
       "      <td>17632</td>\n",
       "      <td>112228</td>\n",
       "      <td>NaN</td>\n",
       "    </tr>\n",
       "    <tr>\n",
       "      <th>15290</th>\n",
       "      <td>Perl</td>\n",
       "      <td>19446</td>\n",
       "      <td>115291</td>\n",
       "      <td>NaN</td>\n",
       "    </tr>\n",
       "  </tbody>\n",
       "</table>\n",
       "</div>"
      ],
      "text/plain": [
       "          language  proj_id  file_id file_body\n",
       "1163         Swift    10518   101164       NaN\n",
       "9951   Mathematica    15938   109952       NaN\n",
       "12227        Julia    17632   112228       NaN\n",
       "15290         Perl    19446   115291       NaN"
      ]
     },
     "execution_count": 11,
     "metadata": {},
     "output_type": "execute_result"
    }
   ],
   "source": [
    "df[df.file_body.isnull()]"
   ]
  },
  {
   "cell_type": "code",
   "execution_count": 12,
   "metadata": {},
   "outputs": [],
   "source": [
    "df.dropna(inplace=True)"
   ]
  },
  {
   "cell_type": "code",
   "execution_count": 13,
   "metadata": {},
   "outputs": [
    {
     "data": {
      "text/plain": [
       "array(['language', 'proj_id', 'file_id', 'file_body'], dtype=object)"
      ]
     },
     "execution_count": 13,
     "metadata": {},
     "output_type": "execute_result"
    }
   ],
   "source": [
    "df.columns.values"
   ]
  },
  {
   "cell_type": "code",
   "execution_count": 14,
   "metadata": {},
   "outputs": [],
   "source": [
    "df['file_body_len'] = df.apply(lambda row: len(str(row['file_body'])), axis=1)\n"
   ]
  },
  {
   "cell_type": "code",
   "execution_count": 15,
   "metadata": {},
   "outputs": [
    {
     "data": {
      "image/png": "[encoded data removed]",
      "text/plain": [
       "<Figure size 720x576 with 1 Axes>"
      ]
     },
     "metadata": {},
     "output_type": "display_data"
    }
   ],
   "source": [
    "sns.distplot(df[df['file_body_len'] < 2000].file_body_len);"
   ]
  },
  {
   "cell_type": "code",
   "execution_count": 16,
   "metadata": {},
   "outputs": [
    {
     "name": "stdout",
     "output_type": "stream",
     "text": [
      "[\n",
      "  null,\n",
      "  4,\n",
      "  3.5,\n",
      "  2.1\n",
      "]\n",
      "\n",
      "***************\n"
     ]
    }
   ],
   "source": [
    "for body in df[df['file_body_len'] < 100].file_body.values:\n",
    "    print(body)\n",
    "    print(\"*\" *15)\n",
    "    break"
   ]
  },
  {
   "cell_type": "code",
   "execution_count": 17,
   "metadata": {},
   "outputs": [
    {
     "data": {
      "text/html": [
       "<div>\n",
       "<style scoped>\n",
       "    .dataframe tbody tr th:only-of-type {\n",
       "        vertical-align: middle;\n",
       "    }\n",
       "\n",
       "    .dataframe tbody tr th {\n",
       "        vertical-align: top;\n",
       "    }\n",
       "\n",
       "    .dataframe thead th {\n",
       "        text-align: right;\n",
       "    }\n",
       "</style>\n",
       "<table border=\"1\" class=\"dataframe\">\n",
       "  <thead>\n",
       "    <tr style=\"text-align: right;\">\n",
       "      <th></th>\n",
       "      <th>language</th>\n",
       "      <th>proj_id</th>\n",
       "      <th>file_id</th>\n",
       "      <th>file_body</th>\n",
       "      <th>file_body_len</th>\n",
       "    </tr>\n",
       "  </thead>\n",
       "  <tbody>\n",
       "    <tr>\n",
       "      <th>0</th>\n",
       "      <td>JavaScript</td>\n",
       "      <td>10001</td>\n",
       "      <td>100001</td>\n",
       "      <td>// Functions as values of a variable\\nvar cube...</td>\n",
       "      <td>411</td>\n",
       "    </tr>\n",
       "    <tr>\n",
       "      <th>1</th>\n",
       "      <td>JavaScript</td>\n",
       "      <td>10001</td>\n",
       "      <td>100002</td>\n",
       "      <td>// Functions as values of a variable\\nvar cube...</td>\n",
       "      <td>493</td>\n",
       "    </tr>\n",
       "    <tr>\n",
       "      <th>2</th>\n",
       "      <td>JavaScript</td>\n",
       "      <td>10002</td>\n",
       "      <td>100003</td>\n",
       "      <td>function median(ary) {\\n    if (ary.length == ...</td>\n",
       "      <td>400</td>\n",
       "    </tr>\n",
       "    <tr>\n",
       "      <th>3</th>\n",
       "      <td>JavaScript</td>\n",
       "      <td>10002</td>\n",
       "      <td>100004</td>\n",
       "      <td>[\\n  null,\\n  4,\\n  3.5,\\n  2.1\\n]\\n</td>\n",
       "      <td>30</td>\n",
       "    </tr>\n",
       "    <tr>\n",
       "      <th>4</th>\n",
       "      <td>JavaScript</td>\n",
       "      <td>10002</td>\n",
       "      <td>100005</td>\n",
       "      <td>(() =&gt; {\\n    'use strict';\\n\\n    // median :...</td>\n",
       "      <td>1346</td>\n",
       "    </tr>\n",
       "  </tbody>\n",
       "</table>\n",
       "</div>"
      ],
      "text/plain": [
       "     language  proj_id  file_id  \\\n",
       "0  JavaScript    10001   100001   \n",
       "1  JavaScript    10001   100002   \n",
       "2  JavaScript    10002   100003   \n",
       "3  JavaScript    10002   100004   \n",
       "4  JavaScript    10002   100005   \n",
       "\n",
       "                                           file_body  file_body_len  \n",
       "0  // Functions as values of a variable\\nvar cube...            411  \n",
       "1  // Functions as values of a variable\\nvar cube...            493  \n",
       "2  function median(ary) {\\n    if (ary.length == ...            400  \n",
       "3               [\\n  null,\\n  4,\\n  3.5,\\n  2.1\\n]\\n             30  \n",
       "4  (() => {\\n    'use strict';\\n\\n    // median :...           1346  "
      ]
     },
     "execution_count": 17,
     "metadata": {},
     "output_type": "execute_result"
    }
   ],
   "source": [
    "df.head()"
   ]
  },
  {
   "cell_type": "markdown",
   "metadata": {},
   "source": [
    "## Dalsza eksploracja - najczęściej występujące wyrazy"
   ]
  },
  {
   "cell_type": "code",
   "execution_count": 22,
   "metadata": {},
   "outputs": [],
   "source": [
    "lang_words = df.drop(['proj_id', 'file_id', 'file_body_len'], axis=1).groupby('language')\n",
    "\n",
    "word_freq_by_lang = nltk.probability.ConditionalFreqDist()\n",
    "\n",
    "for language, file_body in lang_words:\n",
    "    code = file_body['file_body'].str.cat(sep = ' ')\n",
    "    tokens = nltk.tokenize.word_tokenize(code)\n",
    "    frequency = nltk.FreqDist(tokens)\n",
    "    word_freq_by_lang[language] = (frequency)"
   ]
  },
  {
   "cell_type": "code",
   "execution_count": 23,
   "metadata": {},
   "outputs": [
    {
     "data": {
      "text/plain": [
       "FreqDist({'(': 4064, ')': 4063, ',': 2525, ':': 2005, '=': 1804, '}': 1678, '{': 1677, \"''\": 1323, '``': 1259, '[': 1206, ...})"
      ]
     },
     "execution_count": 23,
     "metadata": {},
     "output_type": "execute_result"
    }
   ],
   "source": [
    "word_freq_by_lang['Swift']"
   ]
  },
  {
   "cell_type": "code",
   "execution_count": 24,
   "metadata": {},
   "outputs": [
    {
     "data": {
      "text/plain": [
       "FreqDist({')': 19353, '(': 19333, ',': 18510, ':': 8736, '=': 6991, '[': 5889, ']': 5876, \"'\": 5760, '>': 5031, \"''\": 3887, ...})"
      ]
     },
     "execution_count": 24,
     "metadata": {},
     "output_type": "execute_result"
    }
   ],
   "source": [
    "word_freq_by_lang['Python']"
   ]
  },
  {
   "cell_type": "markdown",
   "metadata": {},
   "source": [
    "### Przed przystąpieniem do oczyszczania, sprawdźmy jaką skuteczność bedzie miał model na surowych danych"
   ]
  },
  {
   "cell_type": "code",
   "execution_count": 25,
   "metadata": {},
   "outputs": [],
   "source": [
    "X = df.file_body\n",
    "lbl_enc = preprocessing.LabelEncoder()\n",
    "y = lbl_enc.fit_transform(df.language)"
   ]
  },
  {
   "cell_type": "code",
   "execution_count": 26,
   "metadata": {},
   "outputs": [],
   "source": [
    "X_train, X_test, y_train, y_test = train_test_split(X, y, test_size=0.2, random_state=42, stratify=y)"
   ]
  },
  {
   "cell_type": "code",
   "execution_count": 27,
   "metadata": {},
   "outputs": [],
   "source": [
    "plp_pipeline = Pipeline([\n",
    "    ('cv', CountVectorizer(analyzer='word')),\n",
    "    ('rfc', RandomForestClassifier()),\n",
    "#     ('lr', LogisticRegression()),\n",
    "#     ('mnb', MultinomialNB()),    \n",
    "                        ])"
   ]
  },
  {
   "cell_type": "code",
   "execution_count": 28,
   "metadata": {},
   "outputs": [
    {
     "data": {
      "text/plain": [
       "Pipeline(memory=None,\n",
       "         steps=[('cv',\n",
       "                 CountVectorizer(analyzer='word', binary=False,\n",
       "                                 decode_error='strict',\n",
       "                                 dtype=<class 'numpy.int64'>, encoding='utf-8',\n",
       "                                 input='content', lowercase=True, max_df=1.0,\n",
       "                                 max_features=None, min_df=1,\n",
       "                                 ngram_range=(1, 1), preprocessor=None,\n",
       "                                 stop_words=None, strip_accents=None,\n",
       "                                 token_pattern='(?u)\\\\b\\\\w\\\\w+\\\\b',\n",
       "                                 tokenizer=None, vocabulary=None)...\n",
       "                 RandomForestClassifier(bootstrap=True, ccp_alpha=0.0,\n",
       "                                        class_weight=None, criterion='gini',\n",
       "                                        max_depth=None, max_features='auto',\n",
       "                                        max_leaf_nodes=None, max_samples=None,\n",
       "                                        min_impurity_decrease=0.0,\n",
       "                                        min_impurity_split=None,\n",
       "                                        min_samples_leaf=1, min_samples_split=2,\n",
       "                                        min_weight_fraction_leaf=0.0,\n",
       "                                        n_estimators=100, n_jobs=None,\n",
       "                                        oob_score=False, random_state=None,\n",
       "                                        verbose=0, warm_start=False))],\n",
       "         verbose=False)"
      ]
     },
     "execution_count": 28,
     "metadata": {},
     "output_type": "execute_result"
    }
   ],
   "source": [
    "plp_pipeline.fit(X_train, y_train)"
   ]
  },
  {
   "cell_type": "code",
   "execution_count": 29,
   "metadata": {},
   "outputs": [
    {
     "data": {
      "text/plain": [
       "array([0.83563748, 0.8172043 , 0.8141321 , 0.83870968, 0.80461538])"
      ]
     },
     "execution_count": 29,
     "metadata": {},
     "output_type": "execute_result"
    }
   ],
   "source": [
    "cross_val_score(plp_pipeline, X_test, y_test, cv=5, scoring='accuracy')"
   ]
  },
  {
   "cell_type": "markdown",
   "metadata": {},
   "source": [
    "## Oczyszczanie tekstu file_body"
   ]
  },
  {
   "cell_type": "code",
   "execution_count": 30,
   "metadata": {
    "scrolled": false
   },
   "outputs": [
    {
     "name": "stdout",
     "output_type": "stream",
     "text": [
      "// Functions as values of a variable\n",
      "var cube = x => Math.pow(x, 3);\n",
      "\n",
      "var cuberoot = x => Math.pow(x, 1 / 3);\n",
      "\n",
      "\n",
      "// Higher order function\n",
      "var compose = (f, g) => (x => f(g(x)));\n",
      "\n",
      "// Storing functions in a array\n",
      "var fun = [ Math.sin, Math.cos, cube ];\n",
      "var inv = [ Math.asin, Math.acos, cuberoot ];\n",
      "\n",
      "for (var i = 0; i < 3; i++) {\n",
      "  // Applying the composition to 0.5\n",
      "  console.log(compose(inv[i], fun[i])(0.5));\n",
      "}\n",
      "\n"
     ]
    }
   ],
   "source": [
    "first_text = df.file_body.values[0]\n",
    "print(first_text)"
   ]
  },
  {
   "cell_type": "code",
   "execution_count": 31,
   "metadata": {},
   "outputs": [
    {
     "data": {
      "text/plain": [
       "'// Functions as values of a variable\\nvar cube = x => Math.pow(x, );\\n\\nvar cuberoot = x => Math.pow(x,  / );\\n\\n\\n// Higher order function\\nvar compose = (f, g) => (x => f(g(x)));\\n\\n// Storing functions in a array\\nvar fun = [ Math.sin, Math.cos, cube ];\\nvar inv = [ Math.asin, Math.acos, cuberoot ];\\n\\nfor (var i = ; i < ; i++) {\\n  // Applying the composition to .\\n  console.log(compose(inv[i], fun[i])(.));\\n}\\n'"
      ]
     },
     "execution_count": 31,
     "metadata": {},
     "output_type": "execute_result"
    }
   ],
   "source": [
    "text_remove_digits = ''.join([i for i in first_text if not i.isdigit()])\n",
    "text_remove_digits"
   ]
  },
  {
   "cell_type": "code",
   "execution_count": 32,
   "metadata": {},
   "outputs": [
    {
     "name": "stdout",
     "output_type": "stream",
     "text": [
      "['Functions', 'as', 'values', 'of', 'a', 'variable', 'var', 'cube', 'x', 'Math', 'pow', 'x', 'var', 'cuberoot', 'x', 'Math', 'pow', 'x', 'Higher', 'order', 'function', 'var', 'compose', 'f', 'g', 'x', 'f', 'g', 'x', 'Storing', 'functions', 'in', 'a', 'array', 'var', 'fun', 'Math', 'sin', 'Math', 'cos', 'cube', 'var', 'inv', 'Math', 'asin', 'Math', 'acos', 'cuberoot', 'for', 'var', 'i', 'i', 'i', 'Applying', 'the', 'composition', 'to', 'console', 'log', 'compose', 'inv', 'i', 'fun', 'i']\n"
     ]
    }
   ],
   "source": [
    "tokenizer = RegexpTokenizer(r'\\w+')\n",
    "first_text_list = tokenizer.tokenize(text_remove_digits)\n",
    "print(first_text_list)"
   ]
  },
  {
   "cell_type": "code",
   "execution_count": 35,
   "metadata": {},
   "outputs": [],
   "source": [
    "stopwords = nltk.corpus.stopwords.words('english')"
   ]
  },
  {
   "cell_type": "code",
   "execution_count": 36,
   "metadata": {},
   "outputs": [
    {
     "name": "stdout",
     "output_type": "stream",
     "text": [
      "['Functions', 'values', 'variable', 'var', 'cube', 'x', 'Math', 'pow', 'x', 'var', 'cuberoot', 'x', 'Math', 'pow', 'x', 'Higher', 'order', 'function', 'var', 'compose', 'f', 'g', 'x', 'f', 'g', 'x', 'Storing', 'functions', 'array', 'var', 'fun', 'Math', 'sin', 'Math', 'cos', 'cube', 'var', 'inv', 'Math', 'asin', 'Math', 'acos', 'cuberoot', 'var', 'Applying', 'composition', 'console', 'log', 'compose', 'inv', 'fun']\n"
     ]
    }
   ],
   "source": [
    "result_string = [word for word in first_text_list if word.lower() not in stopwords]\n",
    "print(result_string)"
   ]
  },
  {
   "cell_type": "markdown",
   "metadata": {},
   "source": [
    "### złożenie powyższych kroków w funkcję"
   ]
  },
  {
   "cell_type": "code",
   "execution_count": 37,
   "metadata": {},
   "outputs": [],
   "source": [
    "def clean_text(text):\n",
    "    first_text = text\n",
    "    text_remove_digits = ''.join([i for i in first_text if not i.isdigit()])\n",
    "    tokenizer = RegexpTokenizer(r'\\w+')\n",
    "    first_text_list = tokenizer.tokenize(text_remove_digits)\n",
    "    stopwords = nltk.corpus.stopwords.words('english')\n",
    "    result_string = [word for word in first_text_list if word.lower() not in stopwords]\n",
    "    return result_string"
   ]
  },
  {
   "cell_type": "markdown",
   "metadata": {},
   "source": [
    "Z oczyszczonym tekstem sprawdzamy jeszcze raz dokładość modelu(np. z parametrem, ngram_range=(1 3)), na tej podstawie podjęcie dalszych decyzji co do oczyszczania tekstu, użycia innego algorytmu.\n",
    "\n",
    "Do zrobienia:\n",
    "\n",
    "W finalnej implementacji dla krótkich plików(file_body) w projekcie składającym się z wielu plików(proj_id) można by było przyjąć język programowania dla najdłuższego pliku.\n",
    "\n",
    "Rozważyć czy sensowne jest usuwanie tekstu po znaku komentarza w danym języku (-pracochłonne)\n",
    "\n",
    "Sprawdzić najczęstsze słowa w podobnych składniowo językach(np. C/C++)\n",
    "\n",
    "\n",
    "\n",
    "\n"
   ]
  }
 ],
 "metadata": {
  "kernelspec": {
   "display_name": "Python 3",
   "language": "python",
   "name": "python3"
  },
  "language_info": {
   "codemirror_mode": {
    "name": "ipython",
    "version": 3
   },
   "file_extension": ".py",
   "mimetype": "text/x-python",
   "name": "python",
   "nbconvert_exporter": "python",
   "pygments_lexer": "ipython3",
   "version": "3.7.6"
  }
 },
 "nbformat": 4,
 "nbformat_minor": 2
}
